{
 "cells": [
  {
   "cell_type": "code",
   "execution_count": 1,
   "metadata": {},
   "outputs": [],
   "source": [
    "%load_ext autoreload\n",
    "%autoreload 2\n",
    "\n",
    "import math\n",
    "import matplotlib.pyplot as plt"
   ]
  },
  {
   "cell_type": "markdown",
   "metadata": {},
   "source": [
    "## Error handling\n",
    "\n",
    "Wrap the `naive_inverse` function to handle divide by zero without an error, and without changing the function!"
   ]
  },
  {
   "cell_type": "code",
   "execution_count": 7,
   "metadata": {},
   "outputs": [
    {
     "name": "stdout",
     "output_type": "stream",
     "text": [
      "0.5\n",
      "inf\n"
     ]
    }
   ],
   "source": [
    "from solutions import inverse\n",
    "\n",
    "print(inverse.naive_inverse(2.0))\n",
    "# print(inverse.naive_inverse(0.0))\n",
    "\n",
    "inverse.result(0)"
   ]
  },
  {
   "cell_type": "markdown",
   "metadata": {},
   "source": [
    "## Even numbers\n",
    "\n",
    "Find and print even numbers between -10 and 10"
   ]
  },
  {
   "cell_type": "code",
   "execution_count": 8,
   "metadata": {},
   "outputs": [
    {
     "name": "stdout",
     "output_type": "stream",
     "text": [
      "Even numbers between -10 and 10 are:\n",
      "[-10, -8, -6, -4, -2, 0, 2, 4, 6, 8, 10]\n"
     ]
    }
   ],
   "source": [
    "from solutions import evens\n",
    "evens.result(-10, 10)"
   ]
  },
  {
   "cell_type": "markdown",
   "metadata": {},
   "source": [
    "## Prime numbers\n",
    "\n",
    "Find and print prime numbers between 1 and 100"
   ]
  },
  {
   "cell_type": "code",
   "execution_count": 11,
   "metadata": {},
   "outputs": [
    {
     "name": "stdout",
     "output_type": "stream",
     "text": [
      "Prime numbers between 1 and 100 are:\n",
      "[2, 3, 5, 7, 11, 13, 17, 19, 23, 29, 31, 37, 41, 43, 47, 53, 59, 61, 67, 71, 73, 79, 83, 89, 97]\n"
     ]
    }
   ],
   "source": [
    "from solutions import primes\n",
    "primes.result();"
   ]
  },
  {
   "cell_type": "markdown",
   "metadata": {},
   "source": [
    "## Text file analyzer\n",
    "\n",
    "Count the number of lines, sentences, words, unique words, and characters in a text file.\n",
    "Also, count the number of occurences \n",
    "\n",
    "The file should be `../resources/lorem.txt`\n",
    "\n",
    "You can check the results using those:\n",
    "- https://www.prepostseo.com/word-counter\n",
    "- https://www.guinrank.com/tool/unique-words-counter\n",
    "- https://www.textfixer.com/tools/online-sentence-counter.php"
   ]
  },
  {
   "cell_type": "code",
   "execution_count": 3,
   "metadata": {},
   "outputs": [
    {
     "name": "stdout",
     "output_type": "stream",
     "text": [
      "File ../resources\\lorem.txt contains:\n",
      "  - Lines (including empty): 9\n",
      "  - Lines (excluding empty): 5\n",
      "  - Sentences: 63\n",
      "  - Words (all): 475\n",
      "  - Words (unique): 141\n",
      "  - Chars (including all): 3177\n",
      "  - Chars (excluding EOLs): 3169\n",
      "\n",
      "The 10 most frequent words in the file are:\n",
      "  - sed: 12\n",
      "  - eu: 10\n",
      "  - id: 10\n",
      "  - varius: 9\n",
      "  - ut: 9\n",
      "  - et: 8\n",
      "  - sit: 7\n",
      "  - amet: 7\n",
      "  - aliquam: 7\n",
      "  - in: 7\n"
     ]
    }
   ],
   "source": [
    "from solutions import words\n",
    "words.result()"
   ]
  }
 ],
 "metadata": {
  "kernelspec": {
   "display_name": "ml",
   "language": "python",
   "name": "python3"
  },
  "language_info": {
   "codemirror_mode": {
    "name": "ipython",
    "version": 3
   },
   "file_extension": ".py",
   "mimetype": "text/x-python",
   "name": "python",
   "nbconvert_exporter": "python",
   "pygments_lexer": "ipython3",
   "version": "3.9.13"
  }
 },
 "nbformat": 4,
 "nbformat_minor": 2
}
