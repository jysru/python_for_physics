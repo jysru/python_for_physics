{
 "cells": [
  {
   "cell_type": "code",
   "execution_count": 1,
   "metadata": {},
   "outputs": [],
   "source": [
    "import math\n",
    "import matplotlib.pyplot as plt"
   ]
  },
  {
   "cell_type": "markdown",
   "metadata": {},
   "source": [
    "## Word counter\n",
    "\n",
    "Solution 475 words, 3177 chars"
   ]
  },
  {
   "cell_type": "code",
   "execution_count": 7,
   "metadata": {},
   "outputs": [
    {
     "name": "stdout",
     "output_type": "stream",
     "text": [
      "3177\n",
      "475\n"
     ]
    }
   ],
   "source": [
    "with open('../resources/lorem.txt', 'r') as file:\n",
    "    text = file.read()\n",
    "words = text.split()\n",
    "\n",
    "print(len(text))\n",
    "print(len(words))"
   ]
  },
  {
   "cell_type": "code",
   "execution_count": 13,
   "metadata": {},
   "outputs": [
    {
     "name": "stdout",
     "output_type": "stream",
     "text": [
      "['lorem', 'ipsum', 'dolor', 'sit', 'amet,', 'consectetur', 'adipiscing', 'elit', 'aliquam', 'odio', 'magna,', 'ultricies', 'eu', 'elementum', 'id,', 'laoreet', 'ac', 'lacus', 'phasellus', 'molestie', 'malesuada', 'condimentum', 'nullam', 'eget', 'est', 'tincidunt,', 'condimentum', 'diam', 'finibus,', 'hendrerit', 'nisi', 'praesent', 'et', 'ante', 'in', 'massa', 'vestibulum', 'varius', 'id', 'eget', 'ipsum', 'duis', 'maximus', 'posuere', 'leo', 'fringilla', 'lacinia', 'vestibulum', 'vitae', 'sapien', 'at', 'quam', 'iaculis', 'porttitor', 'cras', 'a', 'massa', 'aliquet,', 'sagittis', 'justo', 'posuere,', 'porttitor', 'tellus', 'etiam', 'non', 'metus', 'varius,', 'eleifend', 'quam', 'ac,', 'rutrum', 'purus', 'vestibulum', 'sed', 'mauris', 'eget', 'libero', 'gravida', 'rhoncus', 'nam', 'auctor', 'varius', 'elit,', 'eu', 'consequat', 'est', 'efficitur', 'id', 'integer', 'eu', 'varius', 'dui,', 'fermentum', 'consequat', 'urna', 'morbi', 'dapibus', 'neque', 'sit', 'amet', 'molestie', 'convallis', 'in', 'volutpat', 'a', 'elit', 'a', 'fringilla', 'vivamus', 'vitae', 'ipsum', 'eget', 'nisl', 'tristique', 'semper', 'cras', 'sodales', 'dui', 'quis', 'libero', 'gravida', 'vehicula', 'duis', 'consectetur', 'consequat', 'sem,', 'eu', 'maximus', 'lorem', 'duis', 'convallis', 'libero', 'ut', 'leo', 'imperdiet', 'ullamcorper', 'mauris', 'vel', 'sem', 'auctor', 'lorem', 'bibendum', 'volutpat', 'eu', 'et', 'metus', 'nam', 'hendrerit', 'malesuada', 'iaculis', 'phasellus', 'in', 'malesuada', 'tellus', 'phasellus', 'sit', 'amet', 'turpis', 'imperdiet,', 'consectetur', 'enim', 'suscipit,', 'imperdiet', 'metus', 'cras', 'vel', 'lacus', 'laoreet', 'dolor', 'auctor', 'semper', 'et', 'id', 'lacus', 'maecenas', 'dui', 'nisi,', 'tincidunt', 'eu', 'auctor', 'varius,', 'mollis', 'et', 'libero', 'duis', 'sed', 'malesuada', 'lectus', 'aliquam', 'sed', 'felis', 'nec', 'felis', 'vehicula', 'auctor', 'nec', 'ut', 'enim', 'sed', 'eu', 'lacus', 'tristique,', 'ultrices', 'metus', 'id,', 'accumsan', 'odio', 'nulla', 'condimentum', 'viverra', 'dolor,', 'non', 'tincidunt', 'augue', 'gravida', 'et', 'sed', 'id', 'erat', 'libero', 'fusce', 'id', 'felis', 'nec', 'est', 'faucibus', 'imperdiet', 'donec', 'eget', 'nunc', 'ut', 'odio', 'lobortis', 'accumsan', 'pretium', 'vitae', 'dui', 'nulla', 'hendrerit', 'pretium', 'libero,', 'nec', 'eleifend', 'massa', 'congue', 'at', 'integer', 'sed', 'tortor', 'mattis,', 'varius', 'mi', 'efficitur,', 'convallis', 'nisl', 'sed', 'gravida', 'vel', 'leo', 'id', 'congue', 'nunc', 'mi', 'enim,', 'aliquam', 'eleifend', 'nibh', 'suscipit,', 'posuere', 'eleifend', 'diam', 'ut', 'porta', 'vitae', 'justo', 'sit', 'amet', 'dictum', 'aenean', 'cursus', 'eu', 'metus', 'quis', 'posuere', 'sed', 'dignissim', 'interdum', 'sapien,', 'quis', 'dignissim', 'arcu', 'egestas', 'eu', 'ut', 'eget', 'elementum', 'risus', 'etiam', 'non', 'erat', 'tristique,', 'eleifend', 'nisi', 'et,', 'faucibus', 'magna', 'aliquam', 'blandit', 'aliquam', 'vulputate', 'duis', 'pretium', 'neque', 'vitae', 'tristique', 'fermentum', 'morbi', 'nec', 'massa', 'erat', 'vestibulum', 'laoreet', 'quam', 'nunc,', 'quis', 'auctor', 'sapien', 'porttitor', 'sit', 'amet', 'mauris', 'tincidunt', 'consequat', 'tempor', 'sed', 'auctor', 'libero', 'non', 'convallis', 'cursus', 'praesent', 'condimentum', 'maximus', 'nisi,', 'eu', 'volutpat', 'diam', 'varius', 'quis', 'in', 'vel', 'semper', 'purus', 'proin', 'sed', 'egestas', 'lectus', 'etiam', 'condimentum', 'quam', 'vel', 'metus', 'pretium', 'consectetur', 'etiam', 'elit', 'urna,', 'pretium', 'at', 'turpis', 'at,', 'viverra', 'fermentum', 'massa', 'phasellus', 'sit', 'amet', 'vulputate', 'urna,', 'in', 'congue', 'arcu', 'cras', 'at', 'neque', 'dictum', 'sem', 'gravida', 'tempus', 'in', 'sit', 'amet', 'orci', 'maecenas', 'ut', 'lacus', 'tellus', 'praesent', 'aliquet', 'orci', 'consequat', 'lectus', 'consectetur', 'suscipit', 'vel', 'at', 'enim', 'duis', 'fringilla', 'varius', 'sagittis', 'ut', 'feugiat', 'varius', 'tortor,', 'id', 'laoreet', 'erat', 'venenatis', 'vitae', 'aliquam', 'ac', 'sem', 'nec', 'ligula', 'faucibus', 'scelerisque', 'quisque', 'orci', 'augue,', 'blandit', 'ut', 'lorem', 'ac,', 'tincidunt', 'porta', 'dolor', 'morbi', 'a', 'dignissim', 'urna', 'curabitur', 'pretium', 'est', 'mauris,', 'vitae', 'rutrum', 'nisi', 'volutpat', 'sed', 'in', 'commodo,', 'odio', 'et', 'vehicula', 'rutrum,', 'ex', 'nisi', 'pulvinar', 'nulla,', 'id', 'gravida', 'risus', 'sem', 'sed', 'nisl', 'aliquam', 'et', 'nulla', 'vestibulum,', 'fermentum', 'tellus', 'ut,', 'rhoncus', 'dui']\n",
      "475\n",
      "172\n"
     ]
    }
   ],
   "source": [
    "text = text.replace('.', '')\n",
    "words = text.lower().split()\n",
    "\n",
    "print(words)\n",
    "print(len(words))\n",
    "print(len(set(words)))"
   ]
  },
  {
   "cell_type": "code",
   "execution_count": null,
   "metadata": {},
   "outputs": [],
   "source": []
  }
 ],
 "metadata": {
  "kernelspec": {
   "display_name": "ml",
   "language": "python",
   "name": "python3"
  },
  "language_info": {
   "codemirror_mode": {
    "name": "ipython",
    "version": 3
   },
   "file_extension": ".py",
   "mimetype": "text/x-python",
   "name": "python",
   "nbconvert_exporter": "python",
   "pygments_lexer": "ipython3",
   "version": "3.9.13"
  }
 },
 "nbformat": 4,
 "nbformat_minor": 2
}
