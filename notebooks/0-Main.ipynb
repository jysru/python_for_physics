{
 "cells": [
  {
   "cell_type": "markdown",
   "metadata": {},
   "source": [
    "## Python for Physics\n",
    "\n",
    "### 0. Introduction\n",
    "\n",
    "This course is focused on setting up and using Python for Physics, and is mainly focused on Optics.\n",
    "\n",
    "As most of the audience is used to Matlab, comparison with this languages will frequently be made.\n",
    "\n",
    "The targeted audience is people familiar with Scientific Programming under Matlab.\n",
    "\n",
    "People should know the basics of programming to benefit the most from this course."
   ]
  },
  {
   "cell_type": "markdown",
   "metadata": {},
   "source": [
    "### 1. Covered topics\n",
    "\n",
    "1. **Installing and setting up your environment**: [Installation.ipynb](./1-Installation.ipynb)\n",
    "\n",
    "2. **Python basics: conditions, loops, lists, tuples, dictionnaries**: [Basics.ipynb](./2-Basics.ipynb)\n",
    "\n",
    "3. **Reusing Python code: functions, modules, imports**\n",
    "\n",
    "4. **Numpy basics: multidimensional arrays, slicing, etc**\n",
    "\n",
    "5. **Numpy with Matplotlib: let's do a bit of optics!**\n",
    "\n",
    "6. **Reading/Writing/Exporting files from other environments**\n",
    "\n",
    "7. **Object-Oriented Programming: concepts, and why is it convenient...**"
   ]
  }
 ],
 "metadata": {
  "language_info": {
   "name": "python"
  }
 },
 "nbformat": 4,
 "nbformat_minor": 2
}
