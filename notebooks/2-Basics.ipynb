{
 "cells": [
  {
   "cell_type": "markdown",
   "metadata": {},
   "source": [
    "## Python basics\n",
    "\n",
    "### Data types\n",
    "\n",
    "The type of any variable or expression can be accessed using the `type()` function."
   ]
  },
  {
   "cell_type": "code",
   "execution_count": 29,
   "metadata": {},
   "outputs": [
    {
     "name": "stdout",
     "output_type": "stream",
     "text": [
      "<class 'int'>\n",
      "<class 'float'>\n",
      "<class 'complex'>\n",
      "<class 'str'>\n",
      "<class 'bool'>\n"
     ]
    }
   ],
   "source": [
    "print(type(2))\n",
    "print(type(3.0))\n",
    "print(type(1 + 1j))\n",
    "print(type('a'))\n",
    "print(type(True))"
   ]
  },
  {
   "cell_type": "markdown",
   "metadata": {},
   "source": [
    "### Variables"
   ]
  },
  {
   "cell_type": "code",
   "execution_count": 30,
   "metadata": {},
   "outputs": [
    {
     "name": "stdout",
     "output_type": "stream",
     "text": [
      "2 <class 'int'>\n",
      "3.0 <class 'float'>\n",
      "a <class 'str'>\n",
      "1 <class 'str'>\n",
      "False <class 'bool'>\n"
     ]
    }
   ],
   "source": [
    "a = 2\n",
    "b = 3.0\n",
    "c = 'a'\n",
    "d = '1'\n",
    "e = False\n",
    "\n",
    "print(a, type(a))\n",
    "print(b, type(b))\n",
    "print(c, type(c))\n",
    "print(d, type(d))\n",
    "print(e, type(e))"
   ]
  },
  {
   "cell_type": "markdown",
   "metadata": {},
   "source": [
    "### Type casting\n",
    "\n",
    "Or how to convert between basic data types, and what happens"
   ]
  },
  {
   "cell_type": "code",
   "execution_count": 32,
   "metadata": {},
   "outputs": [
    {
     "name": "stdout",
     "output_type": "stream",
     "text": [
      "2 <class 'str'>\n",
      "3 <class 'int'>\n",
      "1 <class 'int'>\n",
      "1.0 <class 'float'>\n",
      "(1+0j) <class 'complex'>\n",
      "0 <class 'int'>\n"
     ]
    }
   ],
   "source": [
    "print(str(a), type(str(a)))\n",
    "print(int(b), type(int(a)))\n",
    "print(int(d), type(int(d)))\n",
    "print(float(d), type(float(d)))\n",
    "print(complex(d), type(complex(d)))\n",
    "print(int(e), type(int(e)))"
   ]
  },
  {
   "cell_type": "markdown",
   "metadata": {},
   "source": [
    "### Operators\n",
    "\n",
    "#### On numbers"
   ]
  },
  {
   "cell_type": "code",
   "execution_count": 6,
   "metadata": {},
   "outputs": [
    {
     "name": "stdout",
     "output_type": "stream",
     "text": [
      "Add: 5\n",
      "Substract: -1\n",
      "Multiply: 6\n",
      "Divide: 0.6666666666666666\n",
      "Integer divide: 2\n",
      "Modulo: 1\n",
      "Exponent: 25\n",
      "Greater than: True\n",
      "Greater or equal than: True\n",
      "Lower than: False\n",
      "Lower or equal than: False\n",
      "Equality False\n",
      "Non equality: True\n"
     ]
    }
   ],
   "source": [
    "print('Add:', 2 + 3)\n",
    "print('Substract:', 2 - 3)\n",
    "print('Multiply:', 2 * 3)\n",
    "print('Divide:', 2 / 3)\n",
    "print('Integer divide:', 5 // 2)\n",
    "print('Modulo:', 5 % 2)\n",
    "print('Exponent:', 5 ** 2)\n",
    "print('Greater than:', 5 > 2)\n",
    "print('Greater or equal than:', 5 >= 2)\n",
    "print('Lower than:', 5 < 2)\n",
    "print('Lower or equal than:', 5 <= 2)\n",
    "print('Equality', 5 == 2)\n",
    "print('Non equality:', 5 != 2)"
   ]
  },
  {
   "cell_type": "markdown",
   "metadata": {},
   "source": [
    "#### On strings"
   ]
  },
  {
   "cell_type": "code",
   "execution_count": 69,
   "metadata": {},
   "outputs": [
    {
     "name": "stdout",
     "output_type": "stream",
     "text": [
      "ab\n",
      "aa\n",
      "False\n",
      "True\n",
      "False\n",
      "True\n"
     ]
    }
   ],
   "source": [
    "a = 'a'\n",
    "b = 'b'\n",
    "\n",
    "print(a + b)\n",
    "print(a * 2)\n",
    "print(a == b)\n",
    "print(a != b)\n",
    "print(a > b)\n",
    "print(b > a)"
   ]
  },
  {
   "cell_type": "markdown",
   "metadata": {},
   "source": [
    "### String manipulation\n",
    "\n",
    "#### Embedded methods"
   ]
  },
  {
   "cell_type": "code",
   "execution_count": 83,
   "metadata": {},
   "outputs": [
    {
     "name": "stdout",
     "output_type": "stream",
     "text": [
      "yay, python is cool !\n",
      "YAY, PYTHON IS COOL !\n",
      "Yay, python is cool !\n",
      "Yay, python is cool !\n",
      "yay, python is cool !\n",
      "       Yay, Python is cool !       \n",
      "12\n",
      ", Python is cool !\n",
      "Yay, Python is cool\n",
      "['Yay,', 'Python', 'is', 'cool', '!']\n",
      "True\n",
      "False\n"
     ]
    }
   ],
   "source": [
    "string = 'Yay, Python is cool !'\n",
    "\n",
    "print(string.lower())\n",
    "print(string.upper())\n",
    "print(string.lower().capitalize())\n",
    "print(string.upper().capitalize())\n",
    "print(string.casefold())\n",
    "print(string.center(35))\n",
    "print(string.find('is'))\n",
    "print(string.removeprefix('Yay'))\n",
    "print(string.removesuffix(' !'))\n",
    "print(string.split(' '))\n",
    "print(string.startswith('Yay'))\n",
    "print(string.endswith('Yay'))"
   ]
  },
  {
   "cell_type": "markdown",
   "metadata": {},
   "source": [
    "#### Slicing\n",
    "\n",
    "The basic way"
   ]
  },
  {
   "cell_type": "code",
   "execution_count": 4,
   "metadata": {},
   "outputs": [
    {
     "name": "stdout",
     "output_type": "stream",
     "text": [
      "4\n",
      "a\n",
      "b\n",
      "b\n",
      "d\n",
      "c\n",
      "abcd\n",
      "ab\n",
      "cd\n",
      "c\n"
     ]
    }
   ],
   "source": [
    "letters = 'abcd'\n",
    "\n",
    "print(len(letters))\n",
    "print(letters[0])\n",
    "print(letters[1])\n",
    "print(letters[1:2])\n",
    "print(letters[-1])\n",
    "print(letters[-2])\n",
    "print(letters[:])\n",
    "print(letters[:2])\n",
    "print(letters[2:])\n",
    "print(letters[2:3])"
   ]
  },
  {
   "cell_type": "markdown",
   "metadata": {},
   "source": [
    "Another way"
   ]
  },
  {
   "cell_type": "code",
   "execution_count": 19,
   "metadata": {},
   "outputs": [
    {
     "name": "stdout",
     "output_type": "stream",
     "text": [
      "a\n",
      "\n",
      "b\n",
      "abcdefg\n",
      "abcdef\n",
      "abcdefgh\n",
      "ab\n",
      "cdefgh\n",
      "aceg\n",
      "bdfh\n"
     ]
    }
   ],
   "source": [
    "letters = 'abcdefgh'\n",
    "\n",
    "print(letters[slice(0, 1)])\n",
    "print(letters[slice(1, 1)])\n",
    "print(letters[slice(1, 2)])\n",
    "print(letters[slice(-1)])\n",
    "print(letters[slice(-2)])\n",
    "print(letters[slice(0, len(letters))])\n",
    "print(letters[slice(0, 2)])\n",
    "print(letters[slice(2, len(letters))])\n",
    "print(letters[slice(0, len(letters), 2)])\n",
    "print(letters[slice(1, len(letters), 2)])"
   ]
  },
  {
   "cell_type": "markdown",
   "metadata": {},
   "source": [
    "### Data structures\n",
    "\n",
    "#### Lists"
   ]
  },
  {
   "cell_type": "code",
   "execution_count": 21,
   "metadata": {},
   "outputs": [
    {
     "name": "stdout",
     "output_type": "stream",
     "text": [
      "An empty list: []\n",
      "An empty list: []\n",
      "[18, 'a', 0.1, (1+1j)]\n",
      "[18, 'a', 0.1, (1+1j)]\n",
      "<class 'list'>\n",
      "4\n",
      "18\n",
      "[18, 0.1]\n",
      "['a', (1+1j)]\n",
      "[18, 'a', 0.1, (1+1j), 18, 'a', 0.1, (1+1j)]\n",
      "[18, 'a', 0.1, (1+1j), 18, 'a', 0.1, (1+1j), 18, 'a', 0.1, (1+1j)]\n",
      "[18, 'a', 0.1, (1+1j), 'hello']\n",
      "[18, 0.1, (1+1j), 'hello']\n",
      "1\n",
      "2\n",
      "[18, (1+1j), 'hello']\n",
      "['hello', (1+1j), 18]\n"
     ]
    },
    {
     "ename": "TypeError",
     "evalue": "'<' not supported between instances of 'complex' and 'str'",
     "output_type": "error",
     "traceback": [
      "\u001b[1;31m---------------------------------------------------------------------------\u001b[0m",
      "\u001b[1;31mTypeError\u001b[0m                                 Traceback (most recent call last)",
      "Cell \u001b[1;32mIn[21], line 38\u001b[0m\n\u001b[0;32m     35\u001b[0m my_list\u001b[38;5;241m.\u001b[39mreverse()\n\u001b[0;32m     36\u001b[0m \u001b[38;5;28mprint\u001b[39m(my_list)\n\u001b[1;32m---> 38\u001b[0m \u001b[43mmy_list\u001b[49m\u001b[38;5;241;43m.\u001b[39;49m\u001b[43msort\u001b[49m\u001b[43m(\u001b[49m\u001b[43m)\u001b[49m\n",
      "\u001b[1;31mTypeError\u001b[0m: '<' not supported between instances of 'complex' and 'str'"
     ]
    }
   ],
   "source": [
    "empty_list = []\n",
    "print('An empty list:', empty_list)\n",
    "\n",
    "empty_list = list()\n",
    "print('An empty list:', empty_list)\n",
    "\n",
    "\n",
    "my_list = [18, 'a', 0.1, 1 + 1j]\n",
    "print(my_list)\n",
    "\n",
    "my_list = list((18, 'a', 0.1, 1 + 1j))\n",
    "print(my_list)\n",
    "\n",
    "\n",
    "print(type(my_list))\n",
    "print(len(my_list))\n",
    "print(my_list[0])\n",
    "print(my_list[::2])\n",
    "print(my_list[1::2])\n",
    "print(my_list + my_list)\n",
    "print(my_list * 3)\n",
    "\n",
    "my_list.append('hello')\n",
    "print(my_list)\n",
    "\n",
    "my_list.pop(1)\n",
    "print(my_list)\n",
    "\n",
    "print(my_list.count(18))\n",
    "print(my_list.index(1+1j))\n",
    "\n",
    "my_list.remove(0.1)\n",
    "print(my_list)\n",
    "\n",
    "my_list.reverse()\n",
    "print(my_list)\n",
    "\n",
    "my_list.sort()"
   ]
  },
  {
   "cell_type": "markdown",
   "metadata": {},
   "source": [
    "#### Sets"
   ]
  },
  {
   "cell_type": "code",
   "execution_count": 33,
   "metadata": {},
   "outputs": [
    {
     "name": "stdout",
     "output_type": "stream",
     "text": [
      "{1, 2, 3, 4}\n",
      "<class 'set'>\n",
      "4\n",
      "{1, 2, 3, 4, 5, 6}\n",
      "{1, 2, 3, 4, 5, 6}\n",
      "{1, 2, 3, 4, 5, 6, 18}\n",
      "{1, 2, 3, 4, 6, 18}\n",
      "{2, 3, 4, 6, 18}\n"
     ]
    }
   ],
   "source": [
    "my_set = {1, 2, 3, 4}\n",
    "print(my_set)\n",
    "print(type(my_set))\n",
    "print(len(my_set))\n",
    "\n",
    "my_set = {1, 2, 3, 4, 4, 5, 5, 6, 6}\n",
    "print(my_set)\n",
    "\n",
    "my_set = set((1, 2, 3, 4, 4, 5, 5, 6, 6))\n",
    "print(my_set)\n",
    "\n",
    "my_set.add(18)\n",
    "print(my_set)\n",
    "\n",
    "my_set.remove(5)\n",
    "print(my_set)\n",
    "\n",
    "my_set.pop()\n",
    "print(my_set)"
   ]
  },
  {
   "cell_type": "code",
   "execution_count": 39,
   "metadata": {},
   "outputs": [
    {
     "name": "stdout",
     "output_type": "stream",
     "text": [
      "{0, 2, 4, 6, 8, 10, 12, 14, 16, 18}\n",
      "{0, 1, 2, 3, 4, 5, 6, 7, 8, 9}\n",
      "Union: {0, 1, 2, 3, 4, 5, 6, 7, 8, 9, 10, 12, 14, 16, 18}\n",
      "Intersection: {0, 2, 4, 6, 8}\n",
      "Difference: {10, 12, 14, 16, 18}\n"
     ]
    }
   ],
   "source": [
    "set1 = set(range(0, 20, 2))\n",
    "print(set1)\n",
    "\n",
    "set2 = set(range(0, 10, 1))\n",
    "print(set2)\n",
    "\n",
    "print(f\"Union: {set1 | set2}\")\n",
    "print(f\"Intersection: {set1 & set2}\")\n",
    "print(f\"Difference: {set1 - set2}\")"
   ]
  },
  {
   "cell_type": "markdown",
   "metadata": {},
   "source": [
    "#### Tuples"
   ]
  },
  {
   "cell_type": "code",
   "execution_count": 53,
   "metadata": {},
   "outputs": [
    {
     "name": "stdout",
     "output_type": "stream",
     "text": [
      "An empty tuple: ()\n",
      "An empty tuple: ()\n",
      "(18, 'a', 0.1, (1+1j))\n",
      "<class 'tuple'>\n",
      "4\n",
      "18\n",
      "(18, 0.1)\n",
      "('a', (1+1j))\n",
      "(18, 'a', 0.1, (1+1j), 18, 'a', 0.1, (1+1j))\n",
      "(18, 'a', 0.1, (1+1j), 18, 'a', 0.1, (1+1j), 18, 'a', 0.1, (1+1j))\n",
      "1\n",
      "2\n"
     ]
    },
    {
     "ename": "AttributeError",
     "evalue": "'tuple' object has no attribute 'append'",
     "output_type": "error",
     "traceback": [
      "\u001b[1;31m---------------------------------------------------------------------------\u001b[0m",
      "\u001b[1;31mAttributeError\u001b[0m                            Traceback (most recent call last)",
      "Cell \u001b[1;32mIn[53], line 20\u001b[0m\n\u001b[0;32m     17\u001b[0m \u001b[38;5;28mprint\u001b[39m(my_tuple\u001b[38;5;241m.\u001b[39mcount(\u001b[38;5;241m0.1\u001b[39m))\n\u001b[0;32m     18\u001b[0m \u001b[38;5;28mprint\u001b[39m(my_tuple\u001b[38;5;241m.\u001b[39mindex(\u001b[38;5;241m0.1\u001b[39m))\n\u001b[1;32m---> 20\u001b[0m \u001b[38;5;28mprint\u001b[39m(\u001b[43mmy_tuple\u001b[49m\u001b[38;5;241;43m.\u001b[39;49m\u001b[43mappend\u001b[49m(\u001b[38;5;241m3\u001b[39m))\n",
      "\u001b[1;31mAttributeError\u001b[0m: 'tuple' object has no attribute 'append'"
     ]
    }
   ],
   "source": [
    "empty_tuple = ()\n",
    "print('An empty tuple:', empty_tuple)\n",
    "\n",
    "empty_tuple = tuple()\n",
    "print('An empty tuple:', empty_tuple)\n",
    "\n",
    "my_tuple = (18, 'a', 0.1, 1 + 1j)\n",
    "print(my_tuple)\n",
    "\n",
    "print(type(my_tuple))\n",
    "print(len(my_tuple))\n",
    "print(my_tuple[0])\n",
    "print(my_tuple[::2])\n",
    "print(my_tuple[1::2])\n",
    "print(my_tuple + my_tuple)\n",
    "print(my_tuple * 3)\n",
    "print(my_tuple.count(0.1))\n",
    "print(my_tuple.index(0.1))\n",
    "\n",
    "print(my_tuple.append(3))"
   ]
  },
  {
   "cell_type": "markdown",
   "metadata": {},
   "source": [
    "#### Dictionaries"
   ]
  },
  {
   "cell_type": "code",
   "execution_count": null,
   "metadata": {},
   "outputs": [],
   "source": [
    "empty_tuple = ()\n",
    "print('An empty tuple:', empty_tuple)\n",
    "\n",
    "empty_tuple = tuple()\n",
    "print('An empty tuple:', empty_tuple)\n",
    "\n",
    "my_tuple = (18, 'a', 0.1, 1 + 1j)\n",
    "print(my_tuple)\n",
    "\n",
    "print(type(my_tuple))\n",
    "print(len(my_tuple))\n",
    "print(my_tuple[0])\n",
    "print(my_tuple[::2])\n",
    "print(my_tuple[1::2])\n",
    "print(my_tuple + my_tuple)\n",
    "print(my_tuple * 3)\n",
    "print(my_tuple.count(0.1))\n",
    "print(my_tuple.index(0.1))\n",
    "\n",
    "print(my_tuple.append(3))"
   ]
  }
 ],
 "metadata": {
  "kernelspec": {
   "display_name": ".venv",
   "language": "python",
   "name": "python3"
  },
  "language_info": {
   "codemirror_mode": {
    "name": "ipython",
    "version": 3
   },
   "file_extension": ".py",
   "mimetype": "text/x-python",
   "name": "python",
   "nbconvert_exporter": "python",
   "pygments_lexer": "ipython3",
   "version": "3.9.13"
  }
 },
 "nbformat": 4,
 "nbformat_minor": 2
}
