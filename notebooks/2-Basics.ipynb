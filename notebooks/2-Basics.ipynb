{
 "cells": [
  {
   "cell_type": "markdown",
   "metadata": {},
   "source": [
    "## Python basics\n",
    "\n",
    "### Data types"
   ]
  },
  {
   "cell_type": "code",
   "execution_count": 29,
   "metadata": {},
   "outputs": [
    {
     "name": "stdout",
     "output_type": "stream",
     "text": [
      "<class 'int'>\n",
      "<class 'float'>\n",
      "<class 'complex'>\n",
      "<class 'str'>\n",
      "<class 'bool'>\n"
     ]
    }
   ],
   "source": [
    "print(type(2))\n",
    "print(type(3.0))\n",
    "print(type(1 + 1j))\n",
    "print(type('a'))\n",
    "print(type(True))"
   ]
  },
  {
   "cell_type": "markdown",
   "metadata": {},
   "source": [
    "### Variables"
   ]
  },
  {
   "cell_type": "code",
   "execution_count": 30,
   "metadata": {},
   "outputs": [
    {
     "name": "stdout",
     "output_type": "stream",
     "text": [
      "2 <class 'int'>\n",
      "3.0 <class 'float'>\n",
      "a <class 'str'>\n",
      "1 <class 'str'>\n",
      "False <class 'bool'>\n"
     ]
    }
   ],
   "source": [
    "a = 2\n",
    "b = 3.0\n",
    "c = 'a'\n",
    "d = '1'\n",
    "e = False\n",
    "\n",
    "print(a, type(a))\n",
    "print(b, type(b))\n",
    "print(c, type(c))\n",
    "print(d, type(d))\n",
    "print(e, type(e))"
   ]
  },
  {
   "cell_type": "markdown",
   "metadata": {},
   "source": [
    "### Type casting"
   ]
  },
  {
   "cell_type": "code",
   "execution_count": 32,
   "metadata": {},
   "outputs": [
    {
     "name": "stdout",
     "output_type": "stream",
     "text": [
      "2 <class 'str'>\n",
      "3 <class 'int'>\n",
      "1 <class 'int'>\n",
      "1.0 <class 'float'>\n",
      "(1+0j) <class 'complex'>\n",
      "0 <class 'int'>\n"
     ]
    }
   ],
   "source": [
    "print(str(a), type(str(a)))\n",
    "print(int(b), type(int(a)))\n",
    "print(int(d), type(int(d)))\n",
    "print(float(d), type(float(d)))\n",
    "print(complex(d), type(complex(d)))\n",
    "print(int(e), type(int(e)))"
   ]
  },
  {
   "cell_type": "markdown",
   "metadata": {},
   "source": [
    "### Operators\n",
    "\n",
    "#### On numbers"
   ]
  },
  {
   "cell_type": "code",
   "execution_count": 37,
   "metadata": {},
   "outputs": [
    {
     "name": "stdout",
     "output_type": "stream",
     "text": [
      "5\n",
      "-1\n",
      "6\n",
      "0.6666666666666666\n",
      "2\n",
      "1\n",
      "25\n",
      "True\n",
      "True\n",
      "False\n",
      "False\n",
      "False\n",
      "True\n"
     ]
    }
   ],
   "source": [
    "print(2 + 3)\n",
    "print(2 - 3)\n",
    "print(2 * 3)\n",
    "print(2 / 3)\n",
    "print(5 // 2)\n",
    "print(5 % 2)\n",
    "print(5 ** 2)\n",
    "print(5 > 2)\n",
    "print(5 >= 2)\n",
    "print(5 < 2)\n",
    "print(5 <= 2)\n",
    "print(5 == 2)\n",
    "print(5 != 2)"
   ]
  },
  {
   "cell_type": "markdown",
   "metadata": {},
   "source": [
    "#### On strings"
   ]
  },
  {
   "cell_type": "code",
   "execution_count": 69,
   "metadata": {},
   "outputs": [
    {
     "name": "stdout",
     "output_type": "stream",
     "text": [
      "ab\n",
      "aa\n",
      "False\n",
      "True\n",
      "False\n",
      "True\n"
     ]
    }
   ],
   "source": [
    "a = 'a'\n",
    "b = 'b'\n",
    "\n",
    "print(a + b)\n",
    "print(a * 2)\n",
    "print(a == b)\n",
    "print(a != b)\n",
    "print(a > b)\n",
    "print(b > a)"
   ]
  },
  {
   "cell_type": "markdown",
   "metadata": {},
   "source": [
    "### String manipulation\n",
    "\n",
    "#### Embedded methods"
   ]
  },
  {
   "cell_type": "code",
   "execution_count": 83,
   "metadata": {},
   "outputs": [
    {
     "name": "stdout",
     "output_type": "stream",
     "text": [
      "yay, python is cool !\n",
      "YAY, PYTHON IS COOL !\n",
      "Yay, python is cool !\n",
      "Yay, python is cool !\n",
      "yay, python is cool !\n",
      "       Yay, Python is cool !       \n",
      "12\n",
      ", Python is cool !\n",
      "Yay, Python is cool\n",
      "['Yay,', 'Python', 'is', 'cool', '!']\n",
      "True\n",
      "False\n"
     ]
    }
   ],
   "source": [
    "string = 'Yay, Python is cool !'\n",
    "\n",
    "print(string.lower())\n",
    "print(string.upper())\n",
    "print(string.lower().capitalize())\n",
    "print(string.upper().capitalize())\n",
    "print(string.casefold())\n",
    "print(string.center(35))\n",
    "print(string.find('is'))\n",
    "print(string.removeprefix('Yay'))\n",
    "print(string.removesuffix(' !'))\n",
    "print(string.split(' '))\n",
    "print(string.startswith('Yay'))\n",
    "print(string.endswith('Yay'))"
   ]
  },
  {
   "cell_type": "markdown",
   "metadata": {},
   "source": [
    "#### Slicing"
   ]
  },
  {
   "cell_type": "code",
   "execution_count": null,
   "metadata": {},
   "outputs": [],
   "source": [
    "letters = 'abcd'\n",
    "\n",
    "print(letters[0])\n",
    "print(letters[1])\n",
    "print(letters[1:2])\n",
    "print(letters[-1])\n",
    "print(letters[-2])\n",
    "print(letters[:])\n",
    "print(letters[:2])\n",
    "print(letters[2:])\n",
    "print(letters[2:3])"
   ]
  },
  {
   "cell_type": "markdown",
   "metadata": {},
   "source": [
    "### Data structures\n",
    "\n",
    "#### Lists"
   ]
  },
  {
   "cell_type": "code",
   "execution_count": 108,
   "metadata": {},
   "outputs": [
    {
     "name": "stdout",
     "output_type": "stream",
     "text": [
      "[18, 'a', 0.1, (1+1j)]\n",
      "<class 'list'>\n",
      "4\n",
      "18\n",
      "[18, 0.1]\n",
      "['a', (1+1j)]\n",
      "[18, 'a', 0.1, (1+1j), 18, 'a', 0.1, (1+1j)]\n",
      "[18, 'a', 0.1, (1+1j), 18, 'a', 0.1, (1+1j), 18, 'a', 0.1, (1+1j)]\n",
      "[18, 'a', 0.1, (1+1j), 'hello']\n",
      "[18, 0.1, (1+1j), 'hello']\n",
      "1\n",
      "2\n",
      "[18, (1+1j), 'hello']\n",
      "['hello', (1+1j), 18]\n"
     ]
    },
    {
     "ename": "TypeError",
     "evalue": "'<' not supported between instances of 'complex' and 'str'",
     "output_type": "error",
     "traceback": [
      "\u001b[1;31m---------------------------------------------------------------------------\u001b[0m",
      "\u001b[1;31mTypeError\u001b[0m                                 Traceback (most recent call last)",
      "Cell \u001b[1;32mIn[108], line 27\u001b[0m\n\u001b[0;32m     24\u001b[0m my_list\u001b[38;5;241m.\u001b[39mreverse()\n\u001b[0;32m     25\u001b[0m \u001b[38;5;28mprint\u001b[39m(my_list)\n\u001b[1;32m---> 27\u001b[0m \u001b[43mmy_list\u001b[49m\u001b[38;5;241;43m.\u001b[39;49m\u001b[43msort\u001b[49m\u001b[43m(\u001b[49m\u001b[43m)\u001b[49m\n",
      "\u001b[1;31mTypeError\u001b[0m: '<' not supported between instances of 'complex' and 'str'"
     ]
    }
   ],
   "source": [
    "my_list = [18, 'a', 0.1, 1 + 1j]\n",
    "\n",
    "print(my_list)\n",
    "print(type(my_list))\n",
    "print(len(my_list))\n",
    "print(my_list[0])\n",
    "print(my_list[::2])\n",
    "print(my_list[1::2])\n",
    "print(my_list + my_list)\n",
    "print(my_list * 3)\n",
    "\n",
    "my_list.append('hello')\n",
    "print(my_list)\n",
    "\n",
    "my_list.pop(1)\n",
    "print(my_list)\n",
    "\n",
    "print(my_list.count(18))\n",
    "print(my_list.index(1+1j))\n",
    "\n",
    "my_list.remove(0.1)\n",
    "print(my_list)\n",
    "\n",
    "my_list.reverse()\n",
    "print(my_list)\n",
    "\n",
    "my_list.sort()"
   ]
  },
  {
   "cell_type": "markdown",
   "metadata": {},
   "source": [
    "#### Sets"
   ]
  },
  {
   "cell_type": "markdown",
   "metadata": {},
   "source": [
    "#### Tuples"
   ]
  },
  {
   "cell_type": "markdown",
   "metadata": {},
   "source": [
    "#### Dictionaries"
   ]
  }
 ],
 "metadata": {
  "kernelspec": {
   "display_name": ".venv",
   "language": "python",
   "name": "python3"
  },
  "language_info": {
   "codemirror_mode": {
    "name": "ipython",
    "version": 3
   },
   "file_extension": ".py",
   "mimetype": "text/x-python",
   "name": "python",
   "nbconvert_exporter": "python",
   "pygments_lexer": "ipython3",
   "version": "3.9.13"
  }
 },
 "nbformat": 4,
 "nbformat_minor": 2
}
