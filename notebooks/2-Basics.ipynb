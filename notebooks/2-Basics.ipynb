{
 "cells": [
  {
   "cell_type": "markdown",
   "metadata": {},
   "source": [
    "## Python basics\n",
    "\n",
    "### Data types\n",
    "\n",
    "The type of any variable or expression can be accessed using the `type()` function."
   ]
  },
  {
   "cell_type": "code",
   "execution_count": 1,
   "metadata": {},
   "outputs": [
    {
     "name": "stdout",
     "output_type": "stream",
     "text": [
      "<class 'int'>\n",
      "<class 'float'>\n",
      "<class 'complex'>\n",
      "<class 'str'>\n",
      "<class 'bool'>\n"
     ]
    }
   ],
   "source": [
    "print(type(2))\n",
    "print(type(3.0))\n",
    "print(type(1 + 1j))\n",
    "print(type('a'))\n",
    "print(type(True))"
   ]
  },
  {
   "cell_type": "markdown",
   "metadata": {},
   "source": [
    "### Variables"
   ]
  },
  {
   "cell_type": "code",
   "execution_count": 7,
   "metadata": {},
   "outputs": [
    {
     "name": "stdout",
     "output_type": "stream",
     "text": [
      "2 <class 'int'>\n",
      "3.0 <class 'float'>\n",
      "a <class 'str'>\n",
      "1 <class 'str'>\n",
      "False <class 'bool'>\n",
      "(1+2j) <class 'complex'>\n"
     ]
    }
   ],
   "source": [
    "a = 2\n",
    "b = 3.0\n",
    "c = 'a'\n",
    "d = '1'\n",
    "e = False\n",
    "f = 1 + 2j\n",
    "j = 3\n",
    "\n",
    "print(a, type(a))\n",
    "print(b, type(b))\n",
    "print(c, type(c))\n",
    "print(d, type(d))\n",
    "print(e, type(e))\n",
    "print(f, type(f))"
   ]
  },
  {
   "cell_type": "code",
   "execution_count": 14,
   "metadata": {},
   "outputs": [
    {
     "name": "stdout",
     "output_type": "stream",
     "text": [
      "(1+2j)\n"
     ]
    }
   ],
   "source": [
    "print(complex(1, 2))"
   ]
  },
  {
   "cell_type": "code",
   "execution_count": 19,
   "metadata": {},
   "outputs": [
    {
     "name": "stdout",
     "output_type": "stream",
     "text": [
      "L'apostrophe\tdshdjkshd \n",
      "sjdlskd\n"
     ]
    }
   ],
   "source": [
    "print(f\"L\\'apostrophe\\tdshdjkshd \\nsjdlskd\")"
   ]
  },
  {
   "cell_type": "code",
   "execution_count": 18,
   "metadata": {},
   "outputs": [
    {
     "name": "stdout",
     "output_type": "stream",
     "text": [
      "\n",
      "sdshkjd\n",
      "dslkjdlksd\n",
      "sljdlksd\n",
      "\n"
     ]
    }
   ],
   "source": [
    "print(\"\"\"\n",
    "sdshkjd\n",
    "dslkjdlksd\n",
    "sljdlksd\n",
    "\"\"\")\n",
    "# kjsdlkshd"
   ]
  },
  {
   "cell_type": "code",
   "execution_count": 1,
   "metadata": {},
   "outputs": [
    {
     "name": "stdout",
     "output_type": "stream",
     "text": [
      "Variable a = 1.23e+00, type = <class 'float'>, False\n"
     ]
    }
   ],
   "source": [
    "a  = 1.2345587387837863876387638763876\n",
    "print(f'Variable a = {a:1.2e}, type = {type(a)}, {a == 1}')"
   ]
  },
  {
   "cell_type": "code",
   "execution_count": 3,
   "metadata": {},
   "outputs": [
    {
     "name": "stdout",
     "output_type": "stream",
     "text": [
      "Variable a \\n\n"
     ]
    }
   ],
   "source": [
    "print(r'Variable a \\n')"
   ]
  },
  {
   "cell_type": "code",
   "execution_count": 6,
   "metadata": {},
   "outputs": [
    {
     "name": "stdout",
     "output_type": "stream",
     "text": [
      "eqn = $A = 1$\n"
     ]
    }
   ],
   "source": [
    "print(r\"eqn = $A = 1$\")"
   ]
  },
  {
   "cell_type": "code",
   "execution_count": 5,
   "metadata": {},
   "outputs": [
    {
     "name": "stdout",
     "output_type": "stream",
     "text": [
      "Variable a \n",
      " fdkldjf\n"
     ]
    }
   ],
   "source": [
    "print('Variable a \\n fdkldjf')"
   ]
  },
  {
   "cell_type": "markdown",
   "metadata": {},
   "source": [
    "### Type casting\n",
    "\n",
    "Or how to convert between basic data types, and what happens"
   ]
  },
  {
   "cell_type": "code",
   "execution_count": 30,
   "metadata": {},
   "outputs": [
    {
     "name": "stdout",
     "output_type": "stream",
     "text": [
      "2 <class 'str'>\n",
      "3 <class 'int'>\n",
      "1 <class 'int'>\n",
      "1.0 <class 'float'>\n",
      "(1+0j) <class 'complex'>\n",
      "0 <class 'int'>\n"
     ]
    },
    {
     "ename": "ValueError",
     "evalue": "invalid literal for int() with base 10: 'a'",
     "output_type": "error",
     "traceback": [
      "\u001b[1;31m---------------------------------------------------------------------------\u001b[0m",
      "\u001b[1;31mValueError\u001b[0m                                Traceback (most recent call last)",
      "Cell \u001b[1;32mIn[30], line 13\u001b[0m\n\u001b[0;32m     11\u001b[0m \u001b[38;5;28mprint\u001b[39m(\u001b[38;5;28mcomplex\u001b[39m(d), \u001b[38;5;28mtype\u001b[39m(\u001b[38;5;28mcomplex\u001b[39m(d)))\n\u001b[0;32m     12\u001b[0m \u001b[38;5;28mprint\u001b[39m(\u001b[38;5;28mint\u001b[39m(e), \u001b[38;5;28mtype\u001b[39m(\u001b[38;5;28mint\u001b[39m(e)))\n\u001b[1;32m---> 13\u001b[0m \u001b[38;5;28mprint\u001b[39m(\u001b[38;5;28;43mint\u001b[39;49m\u001b[43m(\u001b[49m\u001b[43mc\u001b[49m\u001b[43m)\u001b[49m)\n",
      "\u001b[1;31mValueError\u001b[0m: invalid literal for int() with base 10: 'a'"
     ]
    }
   ],
   "source": [
    "a = 2\n",
    "b = 3.3\n",
    "c = 'a'\n",
    "d = '1'\n",
    "e = False\n",
    "\n",
    "print(str(a), type(str(a)))\n",
    "print(int(b), type(int(a)))\n",
    "print(int(d), type(int(d)))\n",
    "print(float(d), type(float(d)))\n",
    "print(complex(d), type(complex(d)))\n",
    "print(int(e), type(int(e)))\n",
    "print(int(c))"
   ]
  },
  {
   "cell_type": "markdown",
   "metadata": {},
   "source": [
    "### Operators\n",
    "\n",
    "#### On numbers"
   ]
  },
  {
   "cell_type": "code",
   "execution_count": 31,
   "metadata": {},
   "outputs": [
    {
     "name": "stdout",
     "output_type": "stream",
     "text": [
      "Add: 5\n",
      "Substract: -1\n",
      "Multiply: 6\n",
      "Divide: 0.6666666666666666\n",
      "Integer divide: 2\n",
      "Modulo: 1\n",
      "Exponent: 25\n",
      "Greater than: True\n",
      "Greater or equal than: True\n",
      "Lower than: False\n",
      "Lower or equal than: False\n",
      "Equality False\n",
      "Non equality: True\n"
     ]
    }
   ],
   "source": [
    "print('Add:', 2 + 3)\n",
    "print('Substract:', 2 - 3)\n",
    "print('Multiply:', 2 * 3)\n",
    "print('Divide:', 2 / 3)\n",
    "print('Integer divide:', 5 // 2)\n",
    "print('Modulo:', 5 % 2)\n",
    "print('Exponent:', 5 ** 2)\n",
    "print('Greater than:', 5 > 2)\n",
    "print('Greater or equal than:', 5 >= 2)\n",
    "print('Lower than:', 5 < 2)\n",
    "print('Lower or equal than:', 5 <= 2)\n",
    "print('Equality', 5 == 2)\n",
    "print('Non equality:', 5 != 2)"
   ]
  },
  {
   "cell_type": "code",
   "execution_count": 53,
   "metadata": {},
   "outputs": [
    {
     "name": "stdout",
     "output_type": "stream",
     "text": [
      "(5+5.5j)\n",
      "(5-5.5j)\n",
      "<built-in method conjugate of complex object at 0x00000254F32B34B0>\n",
      "5.0\n"
     ]
    },
    {
     "ename": "TypeError",
     "evalue": "'float' object is not callable",
     "output_type": "error",
     "traceback": [
      "\u001b[1;31m---------------------------------------------------------------------------\u001b[0m",
      "\u001b[1;31mTypeError\u001b[0m                                 Traceback (most recent call last)",
      "Cell \u001b[1;32mIn[53], line 9\u001b[0m\n\u001b[0;32m      7\u001b[0m ehdsd \u001b[38;5;241m=\u001b[39m c\u001b[38;5;241m.\u001b[39mreal\n\u001b[0;32m      8\u001b[0m \u001b[38;5;28mprint\u001b[39m(ehdsd)\n\u001b[1;32m----> 9\u001b[0m \u001b[38;5;28mprint\u001b[39m(\u001b[43mehdsd\u001b[49m\u001b[43m(\u001b[49m\u001b[43m)\u001b[49m)\n",
      "\u001b[1;31mTypeError\u001b[0m: 'float' object is not callable"
     ]
    }
   ],
   "source": [
    "c = complex(5, 5.5)\n",
    "d = complex(5, 6.5)\n",
    "print(c)\n",
    "print(c.conjugate())\n",
    "print(c.conjugate)\n",
    "\n",
    "ehdsd = c.real\n",
    "print(ehdsd)\n",
    "print(ehdsd())"
   ]
  },
  {
   "cell_type": "code",
   "execution_count": 49,
   "metadata": {},
   "outputs": [
    {
     "name": "stdout",
     "output_type": "stream",
     "text": [
      "[ 1.  2.  3.  4.  5.  6.  7.  8.  9. 10.]\n",
      "5.5\n"
     ]
    }
   ],
   "source": [
    "import numpy as np\n",
    "\n",
    "a = np.linspace(1, 10, 10)\n",
    "print(a)\n",
    "\n",
    "def do_things(a, func):\n",
    "    return func(a)\n",
    "\n",
    "print(do_things(a, np.median))"
   ]
  },
  {
   "cell_type": "code",
   "execution_count": null,
   "metadata": {},
   "outputs": [],
   "source": [
    "import numpy\n",
    "\n",
    "a = numpy.linspace(1, 10, 10)\n",
    "print(a)\n",
    "\n",
    "def do_things(a, func):\n",
    "    return func(a)\n",
    "\n",
    "print(do_things(a, np.median))"
   ]
  },
  {
   "cell_type": "code",
   "execution_count": 33,
   "metadata": {},
   "outputs": [],
   "source": [
    "\n",
    "a = 2 ** 3"
   ]
  },
  {
   "cell_type": "markdown",
   "metadata": {},
   "source": [
    "#### On strings"
   ]
  },
  {
   "cell_type": "code",
   "execution_count": 69,
   "metadata": {},
   "outputs": [
    {
     "name": "stdout",
     "output_type": "stream",
     "text": [
      "ab\n",
      "aa\n",
      "False\n",
      "True\n",
      "False\n",
      "True\n"
     ]
    }
   ],
   "source": [
    "a = 'a'\n",
    "b = 'b'\n",
    "\n",
    "print(a + b)\n",
    "print(a * 2)\n",
    "print(a == b)\n",
    "print(a != b)\n",
    "print(a > b)\n",
    "print(b > a)"
   ]
  },
  {
   "cell_type": "markdown",
   "metadata": {},
   "source": [
    "### String manipulation\n",
    "\n",
    "#### Embedded methods"
   ]
  },
  {
   "cell_type": "code",
   "execution_count": 9,
   "metadata": {},
   "outputs": [
    {
     "name": "stdout",
     "output_type": "stream",
     "text": [
      "yay, python is cool !\n",
      "YAY, PYTHON IS COOL !\n",
      "Yay, python is cool !\n",
      "Yay, python is cool !\n",
      "yay, python is cool !\n",
      "       Yay, Python is cool !       \n",
      "12\n",
      ", Python is cool !\n",
      "Yay, Python is cool\n",
      "['Yay,', 'Python', 'is cool !']\n",
      "['Yay,', 'Python', 'is cool !']\n",
      "['Yay,', 'Python', 'is cool !']\n",
      "True\n",
      "False\n"
     ]
    }
   ],
   "source": [
    "string = 'Yay, Python is cool !'\n",
    "\n",
    "print(string.lower())\n",
    "print(string.upper())\n",
    "print(string.lower().capitalize())\n",
    "print(string.upper().capitalize())\n",
    "print(string.casefold())\n",
    "print(string.center(35))\n",
    "print(string.find('is'))\n",
    "print(string.removeprefix('Yay'))\n",
    "print(string.removesuffix(' !'))\n",
    "print(string.split(' ', 2))\n",
    "print(string.split(sep=' ', maxsplit=2))\n",
    "print(string.split(maxsplit=2, sep=' '))\n",
    "print(string.startswith('Yay'))\n",
    "print(string.endswith('Yay'))"
   ]
  },
  {
   "cell_type": "markdown",
   "metadata": {},
   "source": [
    "#### Slicing\n",
    "\n",
    "The basic way"
   ]
  },
  {
   "cell_type": "code",
   "execution_count": 25,
   "metadata": {},
   "outputs": [
    {
     "name": "stdout",
     "output_type": "stream",
     "text": [
      "8\n",
      "8\n",
      "a\n",
      "b\n",
      "b\n",
      "h\n",
      "g\n",
      "abcdefgh\n",
      "ab\n",
      "cdefgh\n",
      "\n",
      "h\n"
     ]
    }
   ],
   "source": [
    "letters = 'abcdefgh'\n",
    "\n",
    "print(len('abcdefgh'))\n",
    "print(len(letters))\n",
    "print(letters[0])\n",
    "print(letters[1])\n",
    "print(letters[1:2])\n",
    "print(letters[-1])\n",
    "print(letters[-2])\n",
    "print(letters[:])\n",
    "print(letters[:2])\n",
    "print(letters[2:])\n",
    "print(letters[2:2])\n",
    "print(letters[-1::])"
   ]
  },
  {
   "cell_type": "markdown",
   "metadata": {},
   "source": [
    "Another way"
   ]
  },
  {
   "cell_type": "code",
   "execution_count": 19,
   "metadata": {},
   "outputs": [
    {
     "name": "stdout",
     "output_type": "stream",
     "text": [
      "a\n",
      "\n",
      "b\n",
      "abcdefg\n",
      "abcdef\n",
      "abcdefgh\n",
      "ab\n",
      "cdefgh\n",
      "aceg\n",
      "bdfh\n"
     ]
    }
   ],
   "source": [
    "letters = 'abcdefgh'\n",
    "\n",
    "print(letters[slice(0, 1)])\n",
    "print(letters[slice(1, 1)])\n",
    "print(letters[slice(1, 2)])\n",
    "print(letters[slice(-1)])\n",
    "print(letters[slice(-2)])\n",
    "print(letters[slice(0, len(letters))])\n",
    "print(letters[slice(0, 2)])\n",
    "print(letters[slice(2, len(letters))])\n",
    "print(letters[slice(0, len(letters), 2)])\n",
    "print(letters[slice(1, len(letters), 2)])"
   ]
  },
  {
   "cell_type": "markdown",
   "metadata": {},
   "source": [
    "### Data structures\n",
    "\n",
    "#### Lists"
   ]
  },
  {
   "cell_type": "code",
   "execution_count": 21,
   "metadata": {},
   "outputs": [
    {
     "name": "stdout",
     "output_type": "stream",
     "text": [
      "An empty list: []\n",
      "An empty list: []\n",
      "[18, 'a', 0.1, (1+1j)]\n",
      "[18, 'a', 0.1, (1+1j)]\n",
      "<class 'list'>\n",
      "4\n",
      "18\n",
      "[18, 0.1]\n",
      "['a', (1+1j)]\n",
      "[18, 'a', 0.1, (1+1j), 18, 'a', 0.1, (1+1j)]\n",
      "[18, 'a', 0.1, (1+1j), 18, 'a', 0.1, (1+1j), 18, 'a', 0.1, (1+1j)]\n",
      "[18, 'a', 0.1, (1+1j), 'hello']\n",
      "[18, 0.1, (1+1j), 'hello']\n",
      "1\n",
      "2\n",
      "[18, (1+1j), 'hello']\n",
      "['hello', (1+1j), 18]\n"
     ]
    },
    {
     "ename": "TypeError",
     "evalue": "'<' not supported between instances of 'complex' and 'str'",
     "output_type": "error",
     "traceback": [
      "\u001b[1;31m---------------------------------------------------------------------------\u001b[0m",
      "\u001b[1;31mTypeError\u001b[0m                                 Traceback (most recent call last)",
      "Cell \u001b[1;32mIn[21], line 38\u001b[0m\n\u001b[0;32m     35\u001b[0m my_list\u001b[38;5;241m.\u001b[39mreverse()\n\u001b[0;32m     36\u001b[0m \u001b[38;5;28mprint\u001b[39m(my_list)\n\u001b[1;32m---> 38\u001b[0m \u001b[43mmy_list\u001b[49m\u001b[38;5;241;43m.\u001b[39;49m\u001b[43msort\u001b[49m\u001b[43m(\u001b[49m\u001b[43m)\u001b[49m\n",
      "\u001b[1;31mTypeError\u001b[0m: '<' not supported between instances of 'complex' and 'str'"
     ]
    }
   ],
   "source": [
    "empty_list = []\n",
    "print('An empty list:', empty_list)\n",
    "\n",
    "empty_list = list()\n",
    "print('An empty list:', empty_list)\n",
    "\n",
    "\n",
    "my_list = [18, 'a', 0.1, 1 + 1j]\n",
    "print(my_list)\n",
    "\n",
    "my_list = list((18, 'a', 0.1, 1 + 1j))\n",
    "print(my_list)\n",
    "\n",
    "\n",
    "print(type(my_list))\n",
    "print(len(my_list))\n",
    "print(my_list[0])\n",
    "print(my_list[::2])\n",
    "print(my_list[1::2])\n",
    "print(my_list + my_list)\n",
    "print(my_list * 3)\n",
    "\n",
    "my_list.append('hello')\n",
    "print(my_list)\n",
    "\n",
    "my_list.pop(1)\n",
    "print(my_list)\n",
    "\n",
    "print(my_list.count(18))\n",
    "print(my_list.index(1+1j))\n",
    "\n",
    "my_list.remove(0.1)\n",
    "print(my_list)\n",
    "\n",
    "my_list.reverse()\n",
    "print(my_list)\n",
    "\n",
    "my_list.sort()"
   ]
  },
  {
   "cell_type": "markdown",
   "metadata": {},
   "source": [
    "#### Sets"
   ]
  },
  {
   "cell_type": "code",
   "execution_count": 33,
   "metadata": {},
   "outputs": [
    {
     "name": "stdout",
     "output_type": "stream",
     "text": [
      "{1, 2, 3, 4}\n",
      "<class 'set'>\n",
      "4\n",
      "{1, 2, 3, 4, 5, 6}\n",
      "{1, 2, 3, 4, 5, 6}\n",
      "{1, 2, 3, 4, 5, 6, 18}\n",
      "{1, 2, 3, 4, 6, 18}\n",
      "{2, 3, 4, 6, 18}\n"
     ]
    }
   ],
   "source": [
    "my_set = {1, 2, 3, 4}\n",
    "print(my_set)\n",
    "print(type(my_set))\n",
    "print(len(my_set))\n",
    "\n",
    "my_set = {1, 2, 3, 4, 4, 5, 5, 6, 6}\n",
    "print(my_set)\n",
    "\n",
    "my_set = set((1, 2, 3, 4, 4, 5, 5, 6, 6))\n",
    "print(my_set)\n",
    "\n",
    "my_set.add(18)\n",
    "print(my_set)\n",
    "\n",
    "my_set.remove(5)\n",
    "print(my_set)\n",
    "\n",
    "my_set.pop()\n",
    "print(my_set)"
   ]
  },
  {
   "cell_type": "code",
   "execution_count": 39,
   "metadata": {},
   "outputs": [
    {
     "name": "stdout",
     "output_type": "stream",
     "text": [
      "{0, 2, 4, 6, 8, 10, 12, 14, 16, 18}\n",
      "{0, 1, 2, 3, 4, 5, 6, 7, 8, 9}\n",
      "Union: {0, 1, 2, 3, 4, 5, 6, 7, 8, 9, 10, 12, 14, 16, 18}\n",
      "Intersection: {0, 2, 4, 6, 8}\n",
      "Difference: {10, 12, 14, 16, 18}\n"
     ]
    }
   ],
   "source": [
    "set1 = set(range(0, 20, 2))\n",
    "print(set1)\n",
    "\n",
    "set2 = set(range(0, 10, 1))\n",
    "print(set2)\n",
    "\n",
    "print(f\"Union: {set1 | set2}\")\n",
    "print(f\"Intersection: {set1 & set2}\")\n",
    "print(f\"Difference: {set1 - set2}\")"
   ]
  },
  {
   "cell_type": "markdown",
   "metadata": {},
   "source": [
    "#### Tuples"
   ]
  },
  {
   "cell_type": "code",
   "execution_count": 53,
   "metadata": {},
   "outputs": [
    {
     "name": "stdout",
     "output_type": "stream",
     "text": [
      "An empty tuple: ()\n",
      "An empty tuple: ()\n",
      "(18, 'a', 0.1, (1+1j))\n",
      "<class 'tuple'>\n",
      "4\n",
      "18\n",
      "(18, 0.1)\n",
      "('a', (1+1j))\n",
      "(18, 'a', 0.1, (1+1j), 18, 'a', 0.1, (1+1j))\n",
      "(18, 'a', 0.1, (1+1j), 18, 'a', 0.1, (1+1j), 18, 'a', 0.1, (1+1j))\n",
      "1\n",
      "2\n"
     ]
    },
    {
     "ename": "AttributeError",
     "evalue": "'tuple' object has no attribute 'append'",
     "output_type": "error",
     "traceback": [
      "\u001b[1;31m---------------------------------------------------------------------------\u001b[0m",
      "\u001b[1;31mAttributeError\u001b[0m                            Traceback (most recent call last)",
      "Cell \u001b[1;32mIn[53], line 20\u001b[0m\n\u001b[0;32m     17\u001b[0m \u001b[38;5;28mprint\u001b[39m(my_tuple\u001b[38;5;241m.\u001b[39mcount(\u001b[38;5;241m0.1\u001b[39m))\n\u001b[0;32m     18\u001b[0m \u001b[38;5;28mprint\u001b[39m(my_tuple\u001b[38;5;241m.\u001b[39mindex(\u001b[38;5;241m0.1\u001b[39m))\n\u001b[1;32m---> 20\u001b[0m \u001b[38;5;28mprint\u001b[39m(\u001b[43mmy_tuple\u001b[49m\u001b[38;5;241;43m.\u001b[39;49m\u001b[43mappend\u001b[49m(\u001b[38;5;241m3\u001b[39m))\n",
      "\u001b[1;31mAttributeError\u001b[0m: 'tuple' object has no attribute 'append'"
     ]
    }
   ],
   "source": [
    "empty_tuple = ()\n",
    "print('An empty tuple:', empty_tuple)\n",
    "\n",
    "empty_tuple = tuple()\n",
    "print('An empty tuple:', empty_tuple)\n",
    "\n",
    "my_tuple = (18, 'a', 0.1, 1 + 1j)\n",
    "print(my_tuple)\n",
    "\n",
    "print(type(my_tuple))\n",
    "print(len(my_tuple))\n",
    "print(my_tuple[0])\n",
    "print(my_tuple[::2])\n",
    "print(my_tuple[1::2])\n",
    "print(my_tuple + my_tuple)\n",
    "print(my_tuple * 3)\n",
    "print(my_tuple.count(0.1))\n",
    "print(my_tuple.index(0.1))\n",
    "\n",
    "print(my_tuple.append(3))"
   ]
  },
  {
   "cell_type": "markdown",
   "metadata": {},
   "source": [
    "#### Dictionaries"
   ]
  },
  {
   "cell_type": "code",
   "execution_count": 65,
   "metadata": {},
   "outputs": [
    {
     "name": "stdout",
     "output_type": "stream",
     "text": [
      "An empty dict: {}\n",
      "An empty dict: {}\n",
      "{'name': 'me', 'age': 31}\n",
      "<class 'dict'>\n",
      "2\n",
      "me\n",
      "dict_keys(['name', 'age'])\n",
      "dict_items([('name', 'me'), ('age', 31)])\n",
      "dict_values(['me', 31])\n",
      "{'name': 'me', 'age': 31, 'height': 170}\n",
      "{'language': 'french'}\n",
      "{'name': 'me', 'age': 31, 'height': 170, 'language': 'french'}\n",
      "{'name': 'me', 'height': 170, 'language': 'french'}\n"
     ]
    }
   ],
   "source": [
    "empty_dict = {}\n",
    "print('An empty dict:', empty_dict)\n",
    "\n",
    "empty_dict = dict()\n",
    "print('An empty dict:', empty_dict)\n",
    "\n",
    "my_dict = {'name': 'me', 'age': 31}\n",
    "print(my_dict)\n",
    "\n",
    "print(type(my_dict))\n",
    "print(len(my_dict))\n",
    "print(my_dict['name'])\n",
    "print(my_dict.keys())\n",
    "print(my_dict.items())\n",
    "print(my_dict.values())\n",
    "\n",
    "my_dict['height'] = 170\n",
    "print(my_dict)\n",
    "\n",
    "other_dict = dict(language = 'french')\n",
    "print(other_dict)\n",
    "\n",
    "my_dict.update(other_dict)\n",
    "print(my_dict)\n",
    "\n",
    "my_dict.pop('age')\n",
    "print(my_dict)"
   ]
  },
  {
   "cell_type": "markdown",
   "metadata": {},
   "source": [
    "### Conditionals\n",
    "\n",
    "Let's start with a basic statement.\n",
    "In Python, indents are important!"
   ]
  },
  {
   "cell_type": "code",
   "execution_count": 2,
   "metadata": {},
   "outputs": [
    {
     "name": "stdout",
     "output_type": "stream",
     "text": [
      "a is lower than b\n"
     ]
    }
   ],
   "source": [
    "a = 1.0\n",
    "b = 2.0\n",
    "\n",
    "if a > b:\n",
    "    print(\"a is greater than b\")\n",
    "elif a < b:\n",
    "    print(\"a is lower than b\")\n",
    "else:\n",
    "    print(\"a is equal to be\")"
   ]
  },
  {
   "cell_type": "markdown",
   "metadata": {},
   "source": [
    "Let's follow up with iterables, introducing the keyword `in`!"
   ]
  },
  {
   "cell_type": "code",
   "execution_count": 8,
   "metadata": {},
   "outputs": [
    {
     "name": "stdout",
     "output_type": "stream",
     "text": [
      "(1+1j) is in ['a', 1.0, 'z', 'k', 'm', (1+1j)]\n",
      "a is a key from {'a': 1.0, 'b': 'k', 'm': (1+1j)}\n",
      "(1+1j) is a value from {'a': 1.0, 'b': 'k', 'm': (1+1j)}\n"
     ]
    }
   ],
   "source": [
    "my_list = ['a', 1.0, 'z', 'k', 'm', 1 + 1j]\n",
    "var = complex(1, 1)\n",
    "\n",
    "if var in my_list:\n",
    "    print(f\"{var} is in {my_list}\")\n",
    "else:\n",
    "    print(f\"{var} is not in {my_list}\")\n",
    "\n",
    "\n",
    "my_dict = {'a': 1.0, 'b': 'k', 'm': 1 + 1j}\n",
    "key = 'a'\n",
    "\n",
    "if key in my_dict.keys():\n",
    "    print(f\"{key} is a key from {my_dict}\")\n",
    "else:\n",
    "    print(f\"{key} is not a key from {my_dict}\")\n",
    "\n",
    "if var in my_dict.values():\n",
    "    print(f\"{var} is a value from {my_dict}\")\n",
    "else:\n",
    "    print(f\"{var} is not a value from {my_dict}\")"
   ]
  },
  {
   "cell_type": "markdown",
   "metadata": {},
   "source": [
    "What about the keyword `is`?"
   ]
  },
  {
   "cell_type": "code",
   "execution_count": 12,
   "metadata": {},
   "outputs": [
    {
     "name": "stdout",
     "output_type": "stream",
     "text": [
      "1.0 is not 1.0\n"
     ]
    }
   ],
   "source": [
    "var1 = 1.0\n",
    "var2 = 1.0\n",
    "\n",
    "if var1 is var2:\n",
    "    print(f\"{var1} is {var2}\")\n",
    "else:\n",
    "    print(f\"{var1} is not {var2}\")"
   ]
  },
  {
   "cell_type": "code",
   "execution_count": 17,
   "metadata": {},
   "outputs": [
    {
     "name": "stdout",
     "output_type": "stream",
     "text": [
      "1.0 is 1.0\n"
     ]
    }
   ],
   "source": [
    "import copy\n",
    "\n",
    "var1 = 1.0\n",
    "var2 = copy.copy(var1)\n",
    "\n",
    "if var1 is var2:\n",
    "    print(f\"{var1} is {var2}\")\n",
    "else:\n",
    "    print(f\"{var1} is not {var2}\")"
   ]
  },
  {
   "cell_type": "markdown",
   "metadata": {},
   "source": [
    "More complicated statements!"
   ]
  },
  {
   "cell_type": "code",
   "execution_count": 22,
   "metadata": {},
   "outputs": [
    {
     "name": "stdout",
     "output_type": "stream",
     "text": [
      "(1+2j) is not in ['a', 1.0, 'z', 'k', 'm', (1+1j)], a is a key from {'a': 1.0, 'b': 'k', 'm': (1+1j)}\n",
      "(1+2j) is in ['a', 1.0, 'z', 'k', 'm', (1+1j)], or a is a key from {'a': 1.0, 'b': 'k', 'm': (1+1j)}\n"
     ]
    }
   ],
   "source": [
    "my_list = ['a', 1.0, 'z', 'k', 'm', 1 + 1j]\n",
    "my_dict = {'a': 1.0, 'b': 'k', 'm': 1 + 1j}\n",
    "key = 'a'\n",
    "var = complex(1, 2)\n",
    "\n",
    "if var in my_list and key in my_dict.keys():\n",
    "    print(f\"{var} is in {my_list}, {key} is a key from {my_dict}\")\n",
    "elif var in my_list and key not in my_dict.keys():\n",
    "    print(f\"{var} is in {my_list}, {key} is not a key from {my_dict}\")\n",
    "elif var not in my_list and key in my_dict.keys():\n",
    "    print(f\"{var} is not in {my_list}, {key} is a key from {my_dict}\")\n",
    "else:\n",
    "    print(f\"{var} is not in {my_list}, {key} is not a key from {my_dict}\")\n",
    "\n",
    "if var in my_list or key in my_dict.keys():\n",
    "    print(f\"{var} is in {my_list}, or {key} is a key from {my_dict}\")\n",
    "else:\n",
    "    print(f\"{var} is not in {my_list}, {key} is not a key from {my_dict}\")"
   ]
  },
  {
   "cell_type": "markdown",
   "metadata": {},
   "source": [
    "Nested conditionals"
   ]
  },
  {
   "cell_type": "code",
   "execution_count": 24,
   "metadata": {},
   "outputs": [
    {
     "name": "stdout",
     "output_type": "stream",
     "text": [
      "1.2 is a value from {'a': 1.0, 'b': 'k', 'm': (1+1j)}, a is not key from {'a': 1.0, 'b': 'k', 'm': (1+1j)}\n"
     ]
    }
   ],
   "source": [
    "my_dict = {'a': 1.0, 'b': 'k', 'm': 1 + 1j}\n",
    "key = 'a'\n",
    "var = 1.2\n",
    "\n",
    "if key in my_dict.keys():\n",
    "    if var in my_dict.values():\n",
    "        print(f\"{var} is a value from {my_dict}, {key} is a key from {my_dict}\")\n",
    "    else:\n",
    "        print(f\"{var} is a value from {my_dict}, {key} is not key from {my_dict}\")"
   ]
  },
  {
   "cell_type": "markdown",
   "metadata": {},
   "source": [
    "### Loops and recursion\n",
    "\n",
    "The keywords are the following: `for`, `while`, `break`, `continue`, `else`\n",
    "\n",
    "#### For loops\n",
    "\n",
    "Iterate over a range of values"
   ]
  },
  {
   "cell_type": "code",
   "execution_count": 33,
   "metadata": {},
   "outputs": [
    {
     "name": "stdout",
     "output_type": "stream",
     "text": [
      "1\n",
      "3\n",
      "5\n"
     ]
    }
   ],
   "source": [
    "for i in range(1, 6, 2):\n",
    "    print(i)"
   ]
  },
  {
   "cell_type": "markdown",
   "metadata": {},
   "source": [
    "Iterate over a list, print based on a condition"
   ]
  },
  {
   "cell_type": "code",
   "execution_count": 34,
   "metadata": {},
   "outputs": [
    {
     "name": "stdout",
     "output_type": "stream",
     "text": [
      "a\n",
      "c\n"
     ]
    }
   ],
   "source": [
    "my_list = list(('a', 'b', 'c'))\n",
    "\n",
    "for element in my_list:\n",
    "    if element != 'b':\n",
    "        print(element)"
   ]
  },
  {
   "cell_type": "markdown",
   "metadata": {},
   "source": [
    "Same as earlier, but using the `continue` keyword"
   ]
  },
  {
   "cell_type": "code",
   "execution_count": 36,
   "metadata": {},
   "outputs": [
    {
     "name": "stdout",
     "output_type": "stream",
     "text": [
      "a\n",
      "c\n"
     ]
    }
   ],
   "source": [
    "my_list = list(('a', 'b', 'c'))\n",
    "\n",
    "for element in my_list:\n",
    "    if element == 'b':\n",
    "        continue\n",
    "    else:\n",
    "        print(element)"
   ]
  },
  {
   "cell_type": "markdown",
   "metadata": {},
   "source": [
    "Iterate over the keys of a dictionnary"
   ]
  },
  {
   "cell_type": "code",
   "execution_count": 35,
   "metadata": {},
   "outputs": [
    {
     "name": "stdout",
     "output_type": "stream",
     "text": [
      "Key = a, Value = 1\n",
      "Key = b, Value = 2\n",
      "Key = c, Value = 3\n"
     ]
    }
   ],
   "source": [
    "my_dict = dict(a=1, b=2, c=3)\n",
    "\n",
    "for key in my_dict.keys():\n",
    "    print(f\"Key = {key}, Value = {my_dict[key]}\")"
   ]
  },
  {
   "cell_type": "markdown",
   "metadata": {},
   "source": [
    "Nested loops?"
   ]
  },
  {
   "cell_type": "code",
   "execution_count": 40,
   "metadata": {},
   "outputs": [
    {
     "name": "stdout",
     "output_type": "stream",
     "text": [
      "Even = 0\n",
      "Odd = 1\n",
      "Odd = 3\n",
      "Odd = 5\n",
      "Even = 2\n",
      "Odd = 1\n",
      "Odd = 3\n",
      "Odd = 5\n",
      "Even = 4\n",
      "Odd = 1\n",
      "Odd = 3\n",
      "Odd = 5\n",
      "Even = 6\n",
      "Odd = 1\n",
      "Odd = 3\n",
      "Odd = 5\n"
     ]
    }
   ],
   "source": [
    "for even in range(0, 8, 2):\n",
    "    print(f\"Even = {even}\")\n",
    "    for odd in range(1, 6, 2):\n",
    "        print(f\"Odd = {odd}\")"
   ]
  },
  {
   "cell_type": "markdown",
   "metadata": {},
   "source": [
    "#### While loops\n",
    "\n",
    "Countdown"
   ]
  },
  {
   "cell_type": "code",
   "execution_count": 46,
   "metadata": {},
   "outputs": [
    {
     "name": "stdout",
     "output_type": "stream",
     "text": [
      "5\n",
      "4\n",
      "3\n",
      "2\n",
      "1\n",
      "0\n",
      "Final value: -1\n"
     ]
    }
   ],
   "source": [
    "k = 5\n",
    "\n",
    "while k >= 0:\n",
    "    print(k)\n",
    "    k -= 1\n",
    "    \n",
    "print(f\"Final value: {k}\")"
   ]
  },
  {
   "cell_type": "markdown",
   "metadata": {},
   "source": [
    "Multiply a value only when a condition is true"
   ]
  },
  {
   "cell_type": "code",
   "execution_count": 52,
   "metadata": {},
   "outputs": [
    {
     "name": "stdout",
     "output_type": "stream",
     "text": [
      "1\n",
      "2\n",
      "4\n",
      "8\n",
      "16\n",
      "32\n",
      "Final values: k=-1, n=64\n"
     ]
    }
   ],
   "source": [
    "k = 11\n",
    "n = 1\n",
    "\n",
    "while k >= 0:\n",
    "    if k % 2:\n",
    "        print(n)\n",
    "        n *= 2\n",
    "    k -= 1\n",
    "    \n",
    "print(f\"Final values: k={k}, n={n}\")"
   ]
  },
  {
   "cell_type": "markdown",
   "metadata": {},
   "source": [
    "Break a loop if a condition is met using the `break` keyword"
   ]
  },
  {
   "cell_type": "code",
   "execution_count": 53,
   "metadata": {},
   "outputs": [
    {
     "name": "stdout",
     "output_type": "stream",
     "text": [
      "Final values: k=128, n_loops=7\n"
     ]
    }
   ],
   "source": [
    "k = 1\n",
    "n_loops = 0\n",
    "\n",
    "while True:\n",
    "    k += k\n",
    "    n_loops += 1\n",
    "    if k > 100:\n",
    "        break\n",
    "\n",
    "print(f\"Final values: k={k}, n_loops={n_loops}\")"
   ]
  },
  {
   "cell_type": "markdown",
   "metadata": {},
   "source": [
    "#### The `else` keyword with loops"
   ]
  },
  {
   "cell_type": "code",
   "execution_count": 63,
   "metadata": {},
   "outputs": [
    {
     "name": "stdout",
     "output_type": "stream",
     "text": [
      "a\n",
      "Loop breaks\n"
     ]
    }
   ],
   "source": [
    "my_list = list(('a', 'b', 'c'))\n",
    "breaker = 'a'\n",
    "\n",
    "for element in my_list:\n",
    "    print(f\"{element}\")\n",
    "    if element == breaker:\n",
    "        print('Loop breaks')\n",
    "        break\n",
    "else:\n",
    "    print('Loop finished')"
   ]
  },
  {
   "cell_type": "markdown",
   "metadata": {},
   "source": [
    "### More on loops\n",
    "\n",
    "#### List comprehension\n"
   ]
  },
  {
   "cell_type": "code",
   "execution_count": 67,
   "metadata": {},
   "outputs": [
    {
     "name": "stdout",
     "output_type": "stream",
     "text": [
      "[0, 1, 4]\n"
     ]
    }
   ],
   "source": [
    "x = [x ** 2 for x in range(0, 3)]\n",
    "print(x)"
   ]
  },
  {
   "cell_type": "code",
   "execution_count": 69,
   "metadata": {},
   "outputs": [
    {
     "name": "stdout",
     "output_type": "stream",
     "text": [
      "[4, 9, 16]\n"
     ]
    }
   ],
   "source": [
    "x = [x ** 2 for x in range(0, 5) if x not in range(0, 2)]\n",
    "print(x)"
   ]
  },
  {
   "cell_type": "markdown",
   "metadata": {},
   "source": [
    "#### `enumerate` in loops"
   ]
  },
  {
   "cell_type": "code",
   "execution_count": 70,
   "metadata": {},
   "outputs": [
    {
     "name": "stdout",
     "output_type": "stream",
     "text": [
      "Index: 0, Element: a\n",
      "Index: 1, Element: b\n",
      "Index: 2, Element: c\n"
     ]
    }
   ],
   "source": [
    "my_list = list(('a', 'b', 'c'))\n",
    "\n",
    "for index, element in enumerate(my_list):\n",
    "    print(f\"Index: {index}, Element: {element}\")"
   ]
  },
  {
   "cell_type": "markdown",
   "metadata": {},
   "source": [
    "#### `zip` in loops"
   ]
  },
  {
   "cell_type": "code",
   "execution_count": 72,
   "metadata": {},
   "outputs": [
    {
     "name": "stdout",
     "output_type": "stream",
     "text": [
      "<class 'zip'>\n",
      "<zip object at 0x0000019F9B9884C0>\n",
      "[(1, 'a'), (2, 'b'), (3, 'c')]\n"
     ]
    }
   ],
   "source": [
    "numbers = [1, 2, 3]\n",
    "letters = ['a', 'b', 'c']\n",
    "zipped = zip(numbers, letters)\n",
    "print(type(zipped))\n",
    "print(zipped)\n",
    "print(list(zipped))"
   ]
  },
  {
   "cell_type": "code",
   "execution_count": 73,
   "metadata": {},
   "outputs": [
    {
     "name": "stdout",
     "output_type": "stream",
     "text": [
      "[(0, 0), (1, 1), (2, 2), (3, 3), (4, 4)]\n"
     ]
    }
   ],
   "source": [
    "print(list(zip(range(5), range(100))))"
   ]
  },
  {
   "cell_type": "code",
   "execution_count": 77,
   "metadata": {},
   "outputs": [
    {
     "name": "stdout",
     "output_type": "stream",
     "text": [
      "Letter: a, Number: 0\n",
      "Letter: b, Number: 1\n",
      "Letter: c, Number: 2\n"
     ]
    }
   ],
   "source": [
    "letters = ['a', 'b', 'c']\n",
    "numbers = [0, 1, 2]\n",
    "for l, n in zip(letters, numbers):\n",
    "    print(f'Letter: {l}, Number: {n}')"
   ]
  },
  {
   "cell_type": "code",
   "execution_count": 79,
   "metadata": {},
   "outputs": [
    {
     "name": "stdout",
     "output_type": "stream",
     "text": [
      "Index: 0, Letter: a, Number: 0\n",
      "Index: 1, Letter: b, Number: 1\n",
      "Index: 2, Letter: c, Number: 2\n"
     ]
    }
   ],
   "source": [
    "letters = ['a', 'b', 'c']\n",
    "numbers = [0, 1, 2]\n",
    "for i, (l, n) in enumerate(zip(letters, numbers)):\n",
    "    print(f'Index: {i}, Letter: {l}, Number: {n}')"
   ]
  },
  {
   "cell_type": "code",
   "execution_count": 80,
   "metadata": {},
   "outputs": [
    {
     "name": "stdout",
     "output_type": "stream",
     "text": [
      "(1, 2, 3, 4)\n",
      "('a', 'b', 'c', 'd')\n"
     ]
    }
   ],
   "source": [
    "pairs = [(1, 'a'), (2, 'b'), (3, 'c'), (4, 'd')]\n",
    "numbers, letters = zip(*pairs)\n",
    "print(numbers)\n",
    "print(letters)"
   ]
  },
  {
   "cell_type": "code",
   "execution_count": 82,
   "metadata": {},
   "outputs": [
    {
     "name": "stdout",
     "output_type": "stream",
     "text": [
      "{'name': 'John', 'last_name': 'Doe', 'age': '45', 'job': 'Python Developer'}\n",
      "{'name': 'John', 'last_name': 'Doe', 'age': '45', 'job': 'Python Consultant'}\n"
     ]
    }
   ],
   "source": [
    "fields = ['name', 'last_name', 'age', 'job']\n",
    "values = ['John', 'Doe', '45', 'Python Developer']\n",
    "a_dict = dict(zip(fields, values))\n",
    "print(a_dict)\n",
    "\n",
    "new_job = ['Python Consultant']\n",
    "field = ['job']\n",
    "a_dict.update(zip(field, new_job))\n",
    "print(a_dict)"
   ]
  }
 ],
 "metadata": {
  "kernelspec": {
   "display_name": ".venv",
   "language": "python",
   "name": "python3"
  },
  "language_info": {
   "codemirror_mode": {
    "name": "ipython",
    "version": 3
   },
   "file_extension": ".py",
   "mimetype": "text/x-python",
   "name": "python",
   "nbconvert_exporter": "python",
   "pygments_lexer": "ipython3",
   "version": "3.9.13"
  }
 },
 "nbformat": 4,
 "nbformat_minor": 2
}
